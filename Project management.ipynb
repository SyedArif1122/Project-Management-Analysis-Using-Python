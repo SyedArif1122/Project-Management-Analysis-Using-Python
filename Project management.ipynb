{
 "cells": [
  {
   "cell_type": "markdown",
   "id": "c068a1d0",
   "metadata": {},
   "source": [
    "# Project management Analysis with Python"
   ]
  },
  {
   "cell_type": "markdown",
   "id": "1b3ba75c",
   "metadata": {},
   "source": [
    "Problem Statement\n",
    "The project management dataset encompasses a wide range of project-related details, from project names and descriptions to costs, benefits, and statuses. Cleaning and preprocessing of data were initially undertaken to ensure data accuracy, followed by exploratory data analysis to derive insights.\n",
    "\n",
    "Key analyses included the performance of project managers, project trends over time, project complexity, and the distribution of projects across different phases and departments. These analyses provide a data-driven foundation for enhanced project tracking and management, aiding decision-making and improving overall project outcomes."
   ]
  },
  {
   "cell_type": "markdown",
   "id": "6ff2a48f",
   "metadata": {},
   "source": [
    "# Import Library"
   ]
  },
  {
   "cell_type": "code",
   "execution_count": 1,
   "id": "df179ad8",
   "metadata": {},
   "outputs": [],
   "source": [
    "import pandas as pd"
   ]
  },
  {
   "cell_type": "code",
   "execution_count": 2,
   "id": "517a0fd1",
   "metadata": {},
   "outputs": [
    {
     "name": "stderr",
     "output_type": "stream",
     "text": [
      "C:\\Users\\Syed Arif\\anaconda3\\lib\\site-packages\\scipy\\__init__.py:146: UserWarning: A NumPy version >=1.16.5 and <1.23.0 is required for this version of SciPy (detected version 1.25.1\n",
      "  warnings.warn(f\"A NumPy version >={np_minversion} and <{np_maxversion}\"\n"
     ]
    }
   ],
   "source": [
    "import pandas as pd\n",
    "import seaborn as sns\n",
    "import matplotlib.pyplot as plt\n",
    "import seaborn as sns"
   ]
  },
  {
   "cell_type": "markdown",
   "id": "4b0eb245",
   "metadata": {},
   "source": [
    "# Uploading Csv fle"
   ]
  },
  {
   "cell_type": "code",
   "execution_count": 3,
   "id": "ddda5ead",
   "metadata": {},
   "outputs": [],
   "source": [
    "df = pd.read_csv(r\"C:\\Users\\Syed Arif\\Desktop\\Project Management Dataset.csv\")"
   ]
  },
  {
   "cell_type": "markdown",
   "id": "c5597201",
   "metadata": {},
   "source": [
    "# Data Preprocessing\n"
   ]
  },
  {
   "cell_type": "markdown",
   "id": "aace63f6",
   "metadata": {},
   "source": [
    "# .head()"
   ]
  },
  {
   "cell_type": "markdown",
   "id": "b7a66965",
   "metadata": {},
   "source": [
    "head is used show to the By default = 5 rows in the dataset"
   ]
  },
  {
   "cell_type": "code",
   "execution_count": 4,
   "id": "1c714689",
   "metadata": {},
   "outputs": [
    {
     "data": {
      "text/html": [
       "<div>\n",
       "<style scoped>\n",
       "    .dataframe tbody tr th:only-of-type {\n",
       "        vertical-align: middle;\n",
       "    }\n",
       "\n",
       "    .dataframe tbody tr th {\n",
       "        vertical-align: top;\n",
       "    }\n",
       "\n",
       "    .dataframe thead th {\n",
       "        text-align: right;\n",
       "    }\n",
       "</style>\n",
       "<table border=\"1\" class=\"dataframe\">\n",
       "  <thead>\n",
       "    <tr style=\"text-align: right;\">\n",
       "      <th></th>\n",
       "      <th>Project Name</th>\n",
       "      <th>Project Description</th>\n",
       "      <th>Project Type</th>\n",
       "      <th>Project Manager</th>\n",
       "      <th>Region</th>\n",
       "      <th>Department</th>\n",
       "      <th>Project Cost</th>\n",
       "      <th>Project Benefit</th>\n",
       "      <th>Complexity</th>\n",
       "      <th>Status</th>\n",
       "      <th>Completion%</th>\n",
       "      <th>Phase</th>\n",
       "      <th>Year</th>\n",
       "      <th>Month</th>\n",
       "      <th>Start Date</th>\n",
       "      <th>End Date</th>\n",
       "    </tr>\n",
       "  </thead>\n",
       "  <tbody>\n",
       "    <tr>\n",
       "      <th>0</th>\n",
       "      <td>Rhinestone</td>\n",
       "      <td>Associations Now Is A Casual Game To Teach You...</td>\n",
       "      <td>INCOME GENERATION</td>\n",
       "      <td>Yael Wilcox</td>\n",
       "      <td>North</td>\n",
       "      <td>Admin &amp; BI</td>\n",
       "      <td>3648615</td>\n",
       "      <td>8443980</td>\n",
       "      <td>High</td>\n",
       "      <td>In - Progress</td>\n",
       "      <td>77%</td>\n",
       "      <td>Phase 4 - Implement</td>\n",
       "      <td>2021</td>\n",
       "      <td>2</td>\n",
       "      <td>2/1/2021</td>\n",
       "      <td>6/1/2021</td>\n",
       "    </tr>\n",
       "    <tr>\n",
       "      <th>1</th>\n",
       "      <td>A Triumph Of Softwares</td>\n",
       "      <td>Is A Fully Managed Content Marketing Software ...</td>\n",
       "      <td>INCOME GENERATION</td>\n",
       "      <td>Brenda Chandler</td>\n",
       "      <td>West</td>\n",
       "      <td>eCommerce</td>\n",
       "      <td>4018835</td>\n",
       "      <td>9012225</td>\n",
       "      <td>High</td>\n",
       "      <td>Cancelled</td>\n",
       "      <td>80%</td>\n",
       "      <td>Phase 2 - Develop</td>\n",
       "      <td>2021</td>\n",
       "      <td>3</td>\n",
       "      <td>3/1/2021</td>\n",
       "      <td>6/1/2021</td>\n",
       "    </tr>\n",
       "    <tr>\n",
       "      <th>2</th>\n",
       "      <td>The Blue Bird</td>\n",
       "      <td>Most Content Marketers Know The Golden Rule: Y...</td>\n",
       "      <td>INCOME GENERATION</td>\n",
       "      <td>Nyasia Hunter</td>\n",
       "      <td>North</td>\n",
       "      <td>Warehouse</td>\n",
       "      <td>4285483</td>\n",
       "      <td>9078339</td>\n",
       "      <td>High</td>\n",
       "      <td>Completed</td>\n",
       "      <td>100%</td>\n",
       "      <td>Phase 4 - Implement</td>\n",
       "      <td>2021</td>\n",
       "      <td>3</td>\n",
       "      <td>3/1/2021</td>\n",
       "      <td>6/1/2021</td>\n",
       "    </tr>\n",
       "    <tr>\n",
       "      <th>3</th>\n",
       "      <td>Remembering Our Ancestors</td>\n",
       "      <td>Utilize And Utilizes (Verb Form) The Open, Inc...</td>\n",
       "      <td>PROCESS IMPROVEMENT</td>\n",
       "      <td>Brenda Chandler</td>\n",
       "      <td>East</td>\n",
       "      <td>Sales and Marketing</td>\n",
       "      <td>5285864</td>\n",
       "      <td>8719006</td>\n",
       "      <td>High</td>\n",
       "      <td>Cancelled</td>\n",
       "      <td>75%</td>\n",
       "      <td>Phase 5 - Measure</td>\n",
       "      <td>2021</td>\n",
       "      <td>3</td>\n",
       "      <td>3/1/2021</td>\n",
       "      <td>6/1/2021</td>\n",
       "    </tr>\n",
       "    <tr>\n",
       "      <th>4</th>\n",
       "      <td>Skyhawks</td>\n",
       "      <td>Is A Solution For Founders Who Want To Win At ...</td>\n",
       "      <td>WORKING CAPITAL IMPROVEMENT</td>\n",
       "      <td>Jaylyn Mckenzie</td>\n",
       "      <td>East</td>\n",
       "      <td>eCommerce</td>\n",
       "      <td>5785601</td>\n",
       "      <td>8630148</td>\n",
       "      <td>High</td>\n",
       "      <td>Completed</td>\n",
       "      <td>100%</td>\n",
       "      <td>Phase 1 - Explore</td>\n",
       "      <td>2021</td>\n",
       "      <td>3</td>\n",
       "      <td>3/1/2021</td>\n",
       "      <td>6/1/2021</td>\n",
       "    </tr>\n",
       "  </tbody>\n",
       "</table>\n",
       "</div>"
      ],
      "text/plain": [
       "                Project Name  \\\n",
       "0                 Rhinestone   \n",
       "1     A Triumph Of Softwares   \n",
       "2              The Blue Bird   \n",
       "3  Remembering Our Ancestors   \n",
       "4                   Skyhawks   \n",
       "\n",
       "                                 Project Description  \\\n",
       "0  Associations Now Is A Casual Game To Teach You...   \n",
       "1  Is A Fully Managed Content Marketing Software ...   \n",
       "2  Most Content Marketers Know The Golden Rule: Y...   \n",
       "3  Utilize And Utilizes (Verb Form) The Open, Inc...   \n",
       "4  Is A Solution For Founders Who Want To Win At ...   \n",
       "\n",
       "                  Project Type  Project Manager Region           Department  \\\n",
       "0            INCOME GENERATION      Yael Wilcox  North           Admin & BI   \n",
       "1            INCOME GENERATION  Brenda Chandler   West            eCommerce   \n",
       "2            INCOME GENERATION    Nyasia Hunter  North            Warehouse   \n",
       "3          PROCESS IMPROVEMENT  Brenda Chandler   East  Sales and Marketing   \n",
       "4  WORKING CAPITAL IMPROVEMENT  Jaylyn Mckenzie   East            eCommerce   \n",
       "\n",
       "    Project Cost    Project Benefit  Complexity         Status Completion%  \\\n",
       "0         3648615            8443980       High  In - Progress         77%   \n",
       "1         4018835            9012225       High      Cancelled         80%   \n",
       "2         4285483            9078339       High      Completed        100%   \n",
       "3         5285864            8719006       High      Cancelled         75%   \n",
       "4         5785601            8630148       High      Completed        100%   \n",
       "\n",
       "                 Phase  Year  Month Start Date  End Date  \n",
       "0  Phase 4 - Implement  2021      2   2/1/2021  6/1/2021  \n",
       "1    Phase 2 - Develop  2021      3   3/1/2021  6/1/2021  \n",
       "2  Phase 4 - Implement  2021      3   3/1/2021  6/1/2021  \n",
       "3    Phase 5 - Measure  2021      3   3/1/2021  6/1/2021  \n",
       "4    Phase 1 - Explore  2021      3   3/1/2021  6/1/2021  "
      ]
     },
     "execution_count": 4,
     "metadata": {},
     "output_type": "execute_result"
    }
   ],
   "source": [
    "df.head()"
   ]
  },
  {
   "cell_type": "markdown",
   "id": "8684a0d2",
   "metadata": {},
   "source": [
    "# .tail()"
   ]
  },
  {
   "cell_type": "markdown",
   "id": "dc1a3074",
   "metadata": {},
   "source": [
    "tail is used to show rows by Ascending order"
   ]
  },
  {
   "cell_type": "code",
   "execution_count": 5,
   "id": "13069e51",
   "metadata": {},
   "outputs": [
    {
     "data": {
      "text/html": [
       "<div>\n",
       "<style scoped>\n",
       "    .dataframe tbody tr th:only-of-type {\n",
       "        vertical-align: middle;\n",
       "    }\n",
       "\n",
       "    .dataframe tbody tr th {\n",
       "        vertical-align: top;\n",
       "    }\n",
       "\n",
       "    .dataframe thead th {\n",
       "        text-align: right;\n",
       "    }\n",
       "</style>\n",
       "<table border=\"1\" class=\"dataframe\">\n",
       "  <thead>\n",
       "    <tr style=\"text-align: right;\">\n",
       "      <th></th>\n",
       "      <th>Project Name</th>\n",
       "      <th>Project Description</th>\n",
       "      <th>Project Type</th>\n",
       "      <th>Project Manager</th>\n",
       "      <th>Region</th>\n",
       "      <th>Department</th>\n",
       "      <th>Project Cost</th>\n",
       "      <th>Project Benefit</th>\n",
       "      <th>Complexity</th>\n",
       "      <th>Status</th>\n",
       "      <th>Completion%</th>\n",
       "      <th>Phase</th>\n",
       "      <th>Year</th>\n",
       "      <th>Month</th>\n",
       "      <th>Start Date</th>\n",
       "      <th>End Date</th>\n",
       "    </tr>\n",
       "  </thead>\n",
       "  <tbody>\n",
       "    <tr>\n",
       "      <th>94</th>\n",
       "      <td>Strive Training</td>\n",
       "      <td>Was Built To Help Founders Create Optimized Co...</td>\n",
       "      <td>WORKING CAPITAL IMPROVEMENT</td>\n",
       "      <td>Nyasia Hunter</td>\n",
       "      <td>South</td>\n",
       "      <td>Supply Chain</td>\n",
       "      <td>5259436</td>\n",
       "      <td>8817917</td>\n",
       "      <td>Medium</td>\n",
       "      <td>On - Hold</td>\n",
       "      <td>80%</td>\n",
       "      <td>Phase 2 - Develop</td>\n",
       "      <td>2025</td>\n",
       "      <td>8</td>\n",
       "      <td>8/1/2025</td>\n",
       "      <td>11/1/2025</td>\n",
       "    </tr>\n",
       "    <tr>\n",
       "      <th>95</th>\n",
       "      <td>Debug Entity</td>\n",
       "      <td>In This Ecosystem, Association Content Is Simp...</td>\n",
       "      <td>INCOME GENERATION</td>\n",
       "      <td>Kamari Norris</td>\n",
       "      <td>North</td>\n",
       "      <td>Warehouse</td>\n",
       "      <td>4790417</td>\n",
       "      <td>8872443</td>\n",
       "      <td>Medium</td>\n",
       "      <td>In - Progress</td>\n",
       "      <td>73%</td>\n",
       "      <td>Phase 4 - Implement</td>\n",
       "      <td>2025</td>\n",
       "      <td>9</td>\n",
       "      <td>9/1/2025</td>\n",
       "      <td>12/1/2025</td>\n",
       "    </tr>\n",
       "    <tr>\n",
       "      <th>96</th>\n",
       "      <td>Made By Me</td>\n",
       "      <td>With 15 Five, We Take The Guesswork Out Of Con...</td>\n",
       "      <td>PROCESS IMPROVEMENT</td>\n",
       "      <td>Yael Wilcox</td>\n",
       "      <td>West</td>\n",
       "      <td>Supply Chain</td>\n",
       "      <td>4283481</td>\n",
       "      <td>8895152</td>\n",
       "      <td>Low</td>\n",
       "      <td>Completed</td>\n",
       "      <td>100%</td>\n",
       "      <td>Phase 3 - Plan</td>\n",
       "      <td>2025</td>\n",
       "      <td>11</td>\n",
       "      <td>11/1/2025</td>\n",
       "      <td>3/1/2026</td>\n",
       "    </tr>\n",
       "    <tr>\n",
       "      <th>97</th>\n",
       "      <td>Revolution</td>\n",
       "      <td>Was Founded To Help Founders And Entrepreneurs...</td>\n",
       "      <td>COST REDUCTION</td>\n",
       "      <td>Jaylyn Mckenzie</td>\n",
       "      <td>East</td>\n",
       "      <td>eCommerce</td>\n",
       "      <td>4606575</td>\n",
       "      <td>8658343</td>\n",
       "      <td>High</td>\n",
       "      <td>In - Progress</td>\n",
       "      <td>77%</td>\n",
       "      <td>Phase 4 - Implement</td>\n",
       "      <td>2025</td>\n",
       "      <td>11</td>\n",
       "      <td>11/1/2025</td>\n",
       "      <td>3/1/2026</td>\n",
       "    </tr>\n",
       "    <tr>\n",
       "      <th>98</th>\n",
       "      <td>7Th Annual Workshop</td>\n",
       "      <td>Welcome To The Future Of Content Creation. The...</td>\n",
       "      <td>WORKING CAPITAL IMPROVEMENT</td>\n",
       "      <td>Nyasia Hunter</td>\n",
       "      <td>West</td>\n",
       "      <td>Sales and Marketing</td>\n",
       "      <td>5054482</td>\n",
       "      <td>8422578</td>\n",
       "      <td>High</td>\n",
       "      <td>In - Progress</td>\n",
       "      <td>83%</td>\n",
       "      <td>Phase 3 - Plan</td>\n",
       "      <td>2025</td>\n",
       "      <td>12</td>\n",
       "      <td>12/1/2025</td>\n",
       "      <td>3/1/2026</td>\n",
       "    </tr>\n",
       "  </tbody>\n",
       "</table>\n",
       "</div>"
      ],
      "text/plain": [
       "           Project Name                                Project Description  \\\n",
       "94      Strive Training  Was Built To Help Founders Create Optimized Co...   \n",
       "95         Debug Entity  In This Ecosystem, Association Content Is Simp...   \n",
       "96           Made By Me  With 15 Five, We Take The Guesswork Out Of Con...   \n",
       "97           Revolution  Was Founded To Help Founders And Entrepreneurs...   \n",
       "98  7Th Annual Workshop  Welcome To The Future Of Content Creation. The...   \n",
       "\n",
       "                   Project Type  Project Manager Region           Department  \\\n",
       "94  WORKING CAPITAL IMPROVEMENT    Nyasia Hunter  South         Supply Chain   \n",
       "95            INCOME GENERATION    Kamari Norris  North            Warehouse   \n",
       "96          PROCESS IMPROVEMENT      Yael Wilcox   West         Supply Chain   \n",
       "97               COST REDUCTION  Jaylyn Mckenzie   East            eCommerce   \n",
       "98  WORKING CAPITAL IMPROVEMENT    Nyasia Hunter   West  Sales and Marketing   \n",
       "\n",
       "     Project Cost    Project Benefit  Complexity         Status Completion%  \\\n",
       "94         5259436            8817917     Medium      On - Hold         80%   \n",
       "95         4790417            8872443     Medium  In - Progress         73%   \n",
       "96         4283481            8895152        Low      Completed        100%   \n",
       "97         4606575            8658343       High  In - Progress         77%   \n",
       "98         5054482            8422578       High  In - Progress         83%   \n",
       "\n",
       "                  Phase  Year  Month Start Date   End Date  \n",
       "94    Phase 2 - Develop  2025      8   8/1/2025  11/1/2025  \n",
       "95  Phase 4 - Implement  2025      9   9/1/2025  12/1/2025  \n",
       "96       Phase 3 - Plan  2025     11  11/1/2025   3/1/2026  \n",
       "97  Phase 4 - Implement  2025     11  11/1/2025   3/1/2026  \n",
       "98       Phase 3 - Plan  2025     12  12/1/2025   3/1/2026  "
      ]
     },
     "execution_count": 5,
     "metadata": {},
     "output_type": "execute_result"
    }
   ],
   "source": [
    "df.tail()"
   ]
  },
  {
   "cell_type": "markdown",
   "id": "e76fc80f",
   "metadata": {},
   "source": [
    "# .shape"
   ]
  },
  {
   "cell_type": "markdown",
   "id": "21d6d5af",
   "metadata": {},
   "source": [
    "It show the total no of rows & Column in the dataset"
   ]
  },
  {
   "cell_type": "code",
   "execution_count": 6,
   "id": "e34d1ec4",
   "metadata": {},
   "outputs": [
    {
     "data": {
      "text/plain": [
       "(99, 16)"
      ]
     },
     "execution_count": 6,
     "metadata": {},
     "output_type": "execute_result"
    }
   ],
   "source": [
    "df.shape"
   ]
  },
  {
   "cell_type": "markdown",
   "id": "618b8c56",
   "metadata": {},
   "source": [
    "# .Columns"
   ]
  },
  {
   "cell_type": "markdown",
   "id": "81d5b891",
   "metadata": {},
   "source": [
    "It show the no of each Column"
   ]
  },
  {
   "cell_type": "code",
   "execution_count": 7,
   "id": "d90a23ca",
   "metadata": {},
   "outputs": [
    {
     "data": {
      "text/plain": [
       "Index(['Project Name', 'Project Description', 'Project Type',\n",
       "       'Project Manager', 'Region', 'Department', ' Project Cost ',\n",
       "       ' Project Benefit ', 'Complexity', 'Status', 'Completion%', 'Phase',\n",
       "       'Year', 'Month', 'Start Date', 'End Date'],\n",
       "      dtype='object')"
      ]
     },
     "execution_count": 7,
     "metadata": {},
     "output_type": "execute_result"
    }
   ],
   "source": [
    "df.columns"
   ]
  },
  {
   "cell_type": "markdown",
   "id": "4c3f8320",
   "metadata": {},
   "source": [
    "# .dtypes"
   ]
  },
  {
   "cell_type": "markdown",
   "id": "19881edc",
   "metadata": {},
   "source": [
    "This Attribute show the data type of each column"
   ]
  },
  {
   "cell_type": "code",
   "execution_count": 8,
   "id": "4a5c7bdd",
   "metadata": {},
   "outputs": [
    {
     "data": {
      "text/plain": [
       "Project Name           object\n",
       "Project Description    object\n",
       "Project Type           object\n",
       "Project Manager        object\n",
       "Region                 object\n",
       "Department             object\n",
       " Project Cost           int64\n",
       " Project Benefit        int64\n",
       "Complexity             object\n",
       "Status                 object\n",
       "Completion%            object\n",
       "Phase                  object\n",
       "Year                    int64\n",
       "Month                   int64\n",
       "Start Date             object\n",
       "End Date               object\n",
       "dtype: object"
      ]
     },
     "execution_count": 8,
     "metadata": {},
     "output_type": "execute_result"
    }
   ],
   "source": [
    "df.dtypes"
   ]
  },
  {
   "cell_type": "markdown",
   "id": "f641048a",
   "metadata": {},
   "source": [
    "# .unique()"
   ]
  },
  {
   "cell_type": "markdown",
   "id": "bf6d4f5e",
   "metadata": {},
   "source": [
    "In a column, It show the unique value of specific column."
   ]
  },
  {
   "cell_type": "code",
   "execution_count": 9,
   "id": "bb0f0dd0",
   "metadata": {},
   "outputs": [
    {
     "data": {
      "text/plain": [
       "array(['Admin & BI', 'eCommerce', 'Warehouse', 'Sales and Marketing',\n",
       "       'Supply Chain'], dtype=object)"
      ]
     },
     "execution_count": 9,
     "metadata": {},
     "output_type": "execute_result"
    }
   ],
   "source": [
    "df[\"Department\"].unique()"
   ]
  },
  {
   "cell_type": "markdown",
   "id": "f34840f6",
   "metadata": {},
   "source": [
    "# .nuique()"
   ]
  },
  {
   "cell_type": "markdown",
   "id": "73792a7b",
   "metadata": {},
   "source": [
    "It will show the total no of unique value from whole data frame"
   ]
  },
  {
   "cell_type": "code",
   "execution_count": 10,
   "id": "2e192d57",
   "metadata": {},
   "outputs": [
    {
     "data": {
      "text/plain": [
       "Project Name           99\n",
       "Project Description    95\n",
       "Project Type            4\n",
       "Project Manager         7\n",
       "Region                  4\n",
       "Department              5\n",
       " Project Cost          99\n",
       " Project Benefit       99\n",
       "Complexity              3\n",
       "Status                  4\n",
       "Completion%            22\n",
       "Phase                   5\n",
       "Year                    5\n",
       "Month                  12\n",
       "Start Date             49\n",
       "End Date               43\n",
       "dtype: int64"
      ]
     },
     "execution_count": 10,
     "metadata": {},
     "output_type": "execute_result"
    }
   ],
   "source": [
    "df.nunique()"
   ]
  },
  {
   "cell_type": "markdown",
   "id": "4d234903",
   "metadata": {},
   "source": [
    "# .describe()"
   ]
  },
  {
   "cell_type": "markdown",
   "id": "dff6dbc9",
   "metadata": {},
   "source": [
    "It show the Count, mean , median etc"
   ]
  },
  {
   "cell_type": "code",
   "execution_count": 11,
   "id": "dba2fda3",
   "metadata": {},
   "outputs": [
    {
     "data": {
      "text/html": [
       "<div>\n",
       "<style scoped>\n",
       "    .dataframe tbody tr th:only-of-type {\n",
       "        vertical-align: middle;\n",
       "    }\n",
       "\n",
       "    .dataframe tbody tr th {\n",
       "        vertical-align: top;\n",
       "    }\n",
       "\n",
       "    .dataframe thead th {\n",
       "        text-align: right;\n",
       "    }\n",
       "</style>\n",
       "<table border=\"1\" class=\"dataframe\">\n",
       "  <thead>\n",
       "    <tr style=\"text-align: right;\">\n",
       "      <th></th>\n",
       "      <th>Project Cost</th>\n",
       "      <th>Project Benefit</th>\n",
       "      <th>Year</th>\n",
       "      <th>Month</th>\n",
       "    </tr>\n",
       "  </thead>\n",
       "  <tbody>\n",
       "    <tr>\n",
       "      <th>count</th>\n",
       "      <td>9.900000e+01</td>\n",
       "      <td>9.900000e+01</td>\n",
       "      <td>99.000000</td>\n",
       "      <td>99.000000</td>\n",
       "    </tr>\n",
       "    <tr>\n",
       "      <th>mean</th>\n",
       "      <td>4.156649e+06</td>\n",
       "      <td>8.828178e+06</td>\n",
       "      <td>2022.747475</td>\n",
       "      <td>7.151515</td>\n",
       "    </tr>\n",
       "    <tr>\n",
       "      <th>std</th>\n",
       "      <td>1.076544e+06</td>\n",
       "      <td>2.164019e+05</td>\n",
       "      <td>1.402210</td>\n",
       "      <td>3.211471</td>\n",
       "    </tr>\n",
       "    <tr>\n",
       "      <th>min</th>\n",
       "      <td>2.418301e+06</td>\n",
       "      <td>8.422578e+06</td>\n",
       "      <td>2021.000000</td>\n",
       "      <td>1.000000</td>\n",
       "    </tr>\n",
       "    <tr>\n",
       "      <th>25%</th>\n",
       "      <td>3.251948e+06</td>\n",
       "      <td>8.656248e+06</td>\n",
       "      <td>2022.000000</td>\n",
       "      <td>4.500000</td>\n",
       "    </tr>\n",
       "    <tr>\n",
       "      <th>50%</th>\n",
       "      <td>4.172827e+06</td>\n",
       "      <td>8.846243e+06</td>\n",
       "      <td>2022.000000</td>\n",
       "      <td>7.000000</td>\n",
       "    </tr>\n",
       "    <tr>\n",
       "      <th>75%</th>\n",
       "      <td>5.063288e+06</td>\n",
       "      <td>9.019234e+06</td>\n",
       "      <td>2024.000000</td>\n",
       "      <td>10.000000</td>\n",
       "    </tr>\n",
       "    <tr>\n",
       "      <th>max</th>\n",
       "      <td>5.974815e+06</td>\n",
       "      <td>9.165877e+06</td>\n",
       "      <td>2025.000000</td>\n",
       "      <td>12.000000</td>\n",
       "    </tr>\n",
       "  </tbody>\n",
       "</table>\n",
       "</div>"
      ],
      "text/plain": [
       "        Project Cost    Project Benefit          Year      Month\n",
       "count    9.900000e+01       9.900000e+01    99.000000  99.000000\n",
       "mean     4.156649e+06       8.828178e+06  2022.747475   7.151515\n",
       "std      1.076544e+06       2.164019e+05     1.402210   3.211471\n",
       "min      2.418301e+06       8.422578e+06  2021.000000   1.000000\n",
       "25%      3.251948e+06       8.656248e+06  2022.000000   4.500000\n",
       "50%      4.172827e+06       8.846243e+06  2022.000000   7.000000\n",
       "75%      5.063288e+06       9.019234e+06  2024.000000  10.000000\n",
       "max      5.974815e+06       9.165877e+06  2025.000000  12.000000"
      ]
     },
     "execution_count": 11,
     "metadata": {},
     "output_type": "execute_result"
    }
   ],
   "source": [
    "df.describe()"
   ]
  },
  {
   "cell_type": "markdown",
   "id": "e0a1161b",
   "metadata": {},
   "source": [
    "# .value_counts"
   ]
  },
  {
   "cell_type": "markdown",
   "id": "dcea0077",
   "metadata": {},
   "source": [
    "It Shows all the unique values with their count"
   ]
  },
  {
   "cell_type": "code",
   "execution_count": 12,
   "id": "8a63f82e",
   "metadata": {},
   "outputs": [
    {
     "data": {
      "text/plain": [
       "Supply Chain           24\n",
       "Warehouse              23\n",
       "eCommerce              20\n",
       "Admin & BI             18\n",
       "Sales and Marketing    14\n",
       "Name: Department, dtype: int64"
      ]
     },
     "execution_count": 12,
     "metadata": {},
     "output_type": "execute_result"
    }
   ],
   "source": [
    "df[\"Department\"].value_counts()"
   ]
  },
  {
   "cell_type": "markdown",
   "id": "f55f4c89",
   "metadata": {},
   "source": [
    "# .isnull()"
   ]
  },
  {
   "cell_type": "markdown",
   "id": "cb961a9d",
   "metadata": {},
   "source": [
    "It shows the how many null values"
   ]
  },
  {
   "cell_type": "code",
   "execution_count": 13,
   "id": "614ae149",
   "metadata": {},
   "outputs": [
    {
     "data": {
      "text/html": [
       "<div>\n",
       "<style scoped>\n",
       "    .dataframe tbody tr th:only-of-type {\n",
       "        vertical-align: middle;\n",
       "    }\n",
       "\n",
       "    .dataframe tbody tr th {\n",
       "        vertical-align: top;\n",
       "    }\n",
       "\n",
       "    .dataframe thead th {\n",
       "        text-align: right;\n",
       "    }\n",
       "</style>\n",
       "<table border=\"1\" class=\"dataframe\">\n",
       "  <thead>\n",
       "    <tr style=\"text-align: right;\">\n",
       "      <th></th>\n",
       "      <th>Project Name</th>\n",
       "      <th>Project Description</th>\n",
       "      <th>Project Type</th>\n",
       "      <th>Project Manager</th>\n",
       "      <th>Region</th>\n",
       "      <th>Department</th>\n",
       "      <th>Project Cost</th>\n",
       "      <th>Project Benefit</th>\n",
       "      <th>Complexity</th>\n",
       "      <th>Status</th>\n",
       "      <th>Completion%</th>\n",
       "      <th>Phase</th>\n",
       "      <th>Year</th>\n",
       "      <th>Month</th>\n",
       "      <th>Start Date</th>\n",
       "      <th>End Date</th>\n",
       "    </tr>\n",
       "  </thead>\n",
       "  <tbody>\n",
       "    <tr>\n",
       "      <th>0</th>\n",
       "      <td>False</td>\n",
       "      <td>False</td>\n",
       "      <td>False</td>\n",
       "      <td>False</td>\n",
       "      <td>False</td>\n",
       "      <td>False</td>\n",
       "      <td>False</td>\n",
       "      <td>False</td>\n",
       "      <td>False</td>\n",
       "      <td>False</td>\n",
       "      <td>False</td>\n",
       "      <td>False</td>\n",
       "      <td>False</td>\n",
       "      <td>False</td>\n",
       "      <td>False</td>\n",
       "      <td>False</td>\n",
       "    </tr>\n",
       "    <tr>\n",
       "      <th>1</th>\n",
       "      <td>False</td>\n",
       "      <td>False</td>\n",
       "      <td>False</td>\n",
       "      <td>False</td>\n",
       "      <td>False</td>\n",
       "      <td>False</td>\n",
       "      <td>False</td>\n",
       "      <td>False</td>\n",
       "      <td>False</td>\n",
       "      <td>False</td>\n",
       "      <td>False</td>\n",
       "      <td>False</td>\n",
       "      <td>False</td>\n",
       "      <td>False</td>\n",
       "      <td>False</td>\n",
       "      <td>False</td>\n",
       "    </tr>\n",
       "    <tr>\n",
       "      <th>2</th>\n",
       "      <td>False</td>\n",
       "      <td>False</td>\n",
       "      <td>False</td>\n",
       "      <td>False</td>\n",
       "      <td>False</td>\n",
       "      <td>False</td>\n",
       "      <td>False</td>\n",
       "      <td>False</td>\n",
       "      <td>False</td>\n",
       "      <td>False</td>\n",
       "      <td>False</td>\n",
       "      <td>False</td>\n",
       "      <td>False</td>\n",
       "      <td>False</td>\n",
       "      <td>False</td>\n",
       "      <td>False</td>\n",
       "    </tr>\n",
       "    <tr>\n",
       "      <th>3</th>\n",
       "      <td>False</td>\n",
       "      <td>False</td>\n",
       "      <td>False</td>\n",
       "      <td>False</td>\n",
       "      <td>False</td>\n",
       "      <td>False</td>\n",
       "      <td>False</td>\n",
       "      <td>False</td>\n",
       "      <td>False</td>\n",
       "      <td>False</td>\n",
       "      <td>False</td>\n",
       "      <td>False</td>\n",
       "      <td>False</td>\n",
       "      <td>False</td>\n",
       "      <td>False</td>\n",
       "      <td>False</td>\n",
       "    </tr>\n",
       "    <tr>\n",
       "      <th>4</th>\n",
       "      <td>False</td>\n",
       "      <td>False</td>\n",
       "      <td>False</td>\n",
       "      <td>False</td>\n",
       "      <td>False</td>\n",
       "      <td>False</td>\n",
       "      <td>False</td>\n",
       "      <td>False</td>\n",
       "      <td>False</td>\n",
       "      <td>False</td>\n",
       "      <td>False</td>\n",
       "      <td>False</td>\n",
       "      <td>False</td>\n",
       "      <td>False</td>\n",
       "      <td>False</td>\n",
       "      <td>False</td>\n",
       "    </tr>\n",
       "    <tr>\n",
       "      <th>...</th>\n",
       "      <td>...</td>\n",
       "      <td>...</td>\n",
       "      <td>...</td>\n",
       "      <td>...</td>\n",
       "      <td>...</td>\n",
       "      <td>...</td>\n",
       "      <td>...</td>\n",
       "      <td>...</td>\n",
       "      <td>...</td>\n",
       "      <td>...</td>\n",
       "      <td>...</td>\n",
       "      <td>...</td>\n",
       "      <td>...</td>\n",
       "      <td>...</td>\n",
       "      <td>...</td>\n",
       "      <td>...</td>\n",
       "    </tr>\n",
       "    <tr>\n",
       "      <th>94</th>\n",
       "      <td>False</td>\n",
       "      <td>False</td>\n",
       "      <td>False</td>\n",
       "      <td>False</td>\n",
       "      <td>False</td>\n",
       "      <td>False</td>\n",
       "      <td>False</td>\n",
       "      <td>False</td>\n",
       "      <td>False</td>\n",
       "      <td>False</td>\n",
       "      <td>False</td>\n",
       "      <td>False</td>\n",
       "      <td>False</td>\n",
       "      <td>False</td>\n",
       "      <td>False</td>\n",
       "      <td>False</td>\n",
       "    </tr>\n",
       "    <tr>\n",
       "      <th>95</th>\n",
       "      <td>False</td>\n",
       "      <td>False</td>\n",
       "      <td>False</td>\n",
       "      <td>False</td>\n",
       "      <td>False</td>\n",
       "      <td>False</td>\n",
       "      <td>False</td>\n",
       "      <td>False</td>\n",
       "      <td>False</td>\n",
       "      <td>False</td>\n",
       "      <td>False</td>\n",
       "      <td>False</td>\n",
       "      <td>False</td>\n",
       "      <td>False</td>\n",
       "      <td>False</td>\n",
       "      <td>False</td>\n",
       "    </tr>\n",
       "    <tr>\n",
       "      <th>96</th>\n",
       "      <td>False</td>\n",
       "      <td>False</td>\n",
       "      <td>False</td>\n",
       "      <td>False</td>\n",
       "      <td>False</td>\n",
       "      <td>False</td>\n",
       "      <td>False</td>\n",
       "      <td>False</td>\n",
       "      <td>False</td>\n",
       "      <td>False</td>\n",
       "      <td>False</td>\n",
       "      <td>False</td>\n",
       "      <td>False</td>\n",
       "      <td>False</td>\n",
       "      <td>False</td>\n",
       "      <td>False</td>\n",
       "    </tr>\n",
       "    <tr>\n",
       "      <th>97</th>\n",
       "      <td>False</td>\n",
       "      <td>False</td>\n",
       "      <td>False</td>\n",
       "      <td>False</td>\n",
       "      <td>False</td>\n",
       "      <td>False</td>\n",
       "      <td>False</td>\n",
       "      <td>False</td>\n",
       "      <td>False</td>\n",
       "      <td>False</td>\n",
       "      <td>False</td>\n",
       "      <td>False</td>\n",
       "      <td>False</td>\n",
       "      <td>False</td>\n",
       "      <td>False</td>\n",
       "      <td>False</td>\n",
       "    </tr>\n",
       "    <tr>\n",
       "      <th>98</th>\n",
       "      <td>False</td>\n",
       "      <td>False</td>\n",
       "      <td>False</td>\n",
       "      <td>False</td>\n",
       "      <td>False</td>\n",
       "      <td>False</td>\n",
       "      <td>False</td>\n",
       "      <td>False</td>\n",
       "      <td>False</td>\n",
       "      <td>False</td>\n",
       "      <td>False</td>\n",
       "      <td>False</td>\n",
       "      <td>False</td>\n",
       "      <td>False</td>\n",
       "      <td>False</td>\n",
       "      <td>False</td>\n",
       "    </tr>\n",
       "  </tbody>\n",
       "</table>\n",
       "<p>99 rows × 16 columns</p>\n",
       "</div>"
      ],
      "text/plain": [
       "    Project Name  Project Description  Project Type  Project Manager  Region  \\\n",
       "0          False                False         False            False   False   \n",
       "1          False                False         False            False   False   \n",
       "2          False                False         False            False   False   \n",
       "3          False                False         False            False   False   \n",
       "4          False                False         False            False   False   \n",
       "..           ...                  ...           ...              ...     ...   \n",
       "94         False                False         False            False   False   \n",
       "95         False                False         False            False   False   \n",
       "96         False                False         False            False   False   \n",
       "97         False                False         False            False   False   \n",
       "98         False                False         False            False   False   \n",
       "\n",
       "    Department   Project Cost    Project Benefit   Complexity  Status  \\\n",
       "0        False           False              False       False   False   \n",
       "1        False           False              False       False   False   \n",
       "2        False           False              False       False   False   \n",
       "3        False           False              False       False   False   \n",
       "4        False           False              False       False   False   \n",
       "..         ...             ...                ...         ...     ...   \n",
       "94       False           False              False       False   False   \n",
       "95       False           False              False       False   False   \n",
       "96       False           False              False       False   False   \n",
       "97       False           False              False       False   False   \n",
       "98       False           False              False       False   False   \n",
       "\n",
       "    Completion%  Phase   Year  Month  Start Date  End Date  \n",
       "0         False  False  False  False       False     False  \n",
       "1         False  False  False  False       False     False  \n",
       "2         False  False  False  False       False     False  \n",
       "3         False  False  False  False       False     False  \n",
       "4         False  False  False  False       False     False  \n",
       "..          ...    ...    ...    ...         ...       ...  \n",
       "94        False  False  False  False       False     False  \n",
       "95        False  False  False  False       False     False  \n",
       "96        False  False  False  False       False     False  \n",
       "97        False  False  False  False       False     False  \n",
       "98        False  False  False  False       False     False  \n",
       "\n",
       "[99 rows x 16 columns]"
      ]
     },
     "execution_count": 13,
     "metadata": {},
     "output_type": "execute_result"
    }
   ],
   "source": [
    "df.isnull()"
   ]
  },
  {
   "cell_type": "code",
   "execution_count": 14,
   "id": "483ad1db",
   "metadata": {},
   "outputs": [
    {
     "data": {
      "text/plain": [
       "<AxesSubplot:>"
      ]
     },
     "execution_count": 14,
     "metadata": {},
     "output_type": "execute_result"
    },
    {
     "data": {
      "image/png": "[encoded data removed]",
      "text/plain": [
       "<Figure size 432x288 with 2 Axes>"
      ]
     },
     "metadata": {
      "needs_background": "light"
     },
     "output_type": "display_data"
    }
   ],
   "source": [
    "sns.heatmap(df.isnull())"
   ]
  },
  {
   "cell_type": "code",
   "execution_count": 15,
   "id": "b7e7bfba",
   "metadata": {},
   "outputs": [
    {
     "data": {
      "text/plain": [
       "0"
      ]
     },
     "execution_count": 15,
     "metadata": {},
     "output_type": "execute_result"
    }
   ],
   "source": [
    "df.duplicated().sum()"
   ]
  },
  {
   "cell_type": "markdown",
   "id": "678d9ed8",
   "metadata": {},
   "source": [
    "# What is the total project cost for each project type?"
   ]
  },
  {
   "cell_type": "code",
   "execution_count": 16,
   "id": "33d96287",
   "metadata": {},
   "outputs": [
    {
     "data": {
      "image/png": "[encoded data removed]",
      "text/plain": [
       "<Figure size 720x432 with 1 Axes>"
      ]
     },
     "metadata": {
      "needs_background": "light"
     },
     "output_type": "display_data"
    }
   ],
   "source": [
    "completed_projects = df[df['Status'] == 'Completed']\n",
    "project_managers = completed_projects['Project Manager'].value_counts()\n",
    "\n",
    "# Create a bar chart\n",
    "plt.figure(figsize=(10, 6))\n",
    "project_managers.plot(kind='bar', color='skyblue')\n",
    "plt.title('Number of Completed Projects by Project Manager')\n",
    "plt.xlabel('Project Manager')\n",
    "plt.ylabel('Number of Projects')\n",
    "plt.xticks(rotation=45)\n",
    "plt.tight_layout()\n",
    "\n",
    "# Show the plot\n",
    "plt.show()"
   ]
  },
  {
   "cell_type": "markdown",
   "id": "fd386dd5",
   "metadata": {},
   "source": [
    "# How many projects are in progress or on hold in each department?"
   ]
  },
  {
   "cell_type": "code",
   "execution_count": 17,
   "id": "44f9f677",
   "metadata": {},
   "outputs": [
    {
     "data": {
      "image/png": "[encoded data removed]",
      "text/plain": [
       "<Figure size 576x432 with 1 Axes>"
      ]
     },
     "metadata": {
      "needs_background": "light"
     },
     "output_type": "display_data"
    }
   ],
   "source": [
    "plt.figure(figsize=(8, 6))\n",
    "sns.countplot(data=df, x='Department', hue='Status')\n",
    "plt.xlabel('Department')\n",
    "plt.ylabel('Status')\n",
    "plt.title('Department By Completed Status')\n",
    "plt.show()"
   ]
  },
  {
   "cell_type": "markdown",
   "id": "4db35ffe",
   "metadata": {},
   "source": [
    "# What is the average project benefit by region?"
   ]
  },
  {
   "cell_type": "markdown",
   "id": "abccf6be",
   "metadata": {},
   "source": [
    "# Why we Use Str.strip ...........??"
   ]
  },
  {
   "cell_type": "markdown",
   "id": "5100242b",
   "metadata": {},
   "source": [
    "This ensures that any extra whitespaces in the column names are removed."
   ]
  },
  {
   "cell_type": "code",
   "execution_count": 18,
   "id": "146a9e74",
   "metadata": {},
   "outputs": [
    {
     "data": {
      "text/plain": [
       "Region\n",
       "East     8.801634e+06\n",
       "North    8.849363e+06\n",
       "South    8.796756e+06\n",
       "West     8.847781e+06\n",
       "Name: Project Benefit, dtype: float64"
      ]
     },
     "execution_count": 18,
     "metadata": {},
     "output_type": "execute_result"
    }
   ],
   "source": [
    "df.columns = df.columns.str.strip()\n",
    "average_benefit_by_region = df.groupby('Region')['Project Benefit'].mean()\n",
    "average_benefit_by_region "
   ]
  },
  {
   "cell_type": "code",
   "execution_count": 19,
   "id": "8ad0d9cf",
   "metadata": {},
   "outputs": [
    {
     "data": {
      "image/png": "[encoded data removed]",
      "text/plain": [
       "<Figure size 720x432 with 1 Axes>"
      ]
     },
     "metadata": {
      "needs_background": "light"
     },
     "output_type": "display_data"
    }
   ],
   "source": [
    "# Create a bar chart\n",
    "plt.figure(figsize=(10, 6))\n",
    "average_benefit_by_region.plot(kind='bar')\n",
    "plt.title('project benefit by region')\n",
    "plt.xlabel('Region')\n",
    "plt.ylabel('Project Benefit')\n",
    "plt.xticks(rotation=45)\n",
    "plt.tight_layout()\n",
    "\n",
    "# Show the plot\n",
    "plt.show()"
   ]
  },
  {
   "cell_type": "markdown",
   "id": "270391ba",
   "metadata": {},
   "source": [
    "# How has the project cost and benefit evolved over the years?"
   ]
  },
  {
   "cell_type": "code",
   "execution_count": 20,
   "id": "fd2cfd9f",
   "metadata": {},
   "outputs": [
    {
     "data": {
      "text/plain": [
       "Year\n",
       "2021     93941527\n",
       "2022    114304574\n",
       "2023     67860451\n",
       "2024     64856107\n",
       "2025     70545628\n",
       "Name: Project Cost, dtype: int64"
      ]
     },
     "execution_count": 20,
     "metadata": {},
     "output_type": "execute_result"
    }
   ],
   "source": [
    "df.columns = df.columns.str.strip()\n",
    "project_cost_by_year = df.groupby('Year')['Project Cost'].sum()\n",
    "project_benefit_by_year = df.groupby('Year')['Project Benefit'].sum()\n",
    "project_cost_by_year"
   ]
  },
  {
   "cell_type": "code",
   "execution_count": 21,
   "id": "63d6095f",
   "metadata": {},
   "outputs": [
    {
     "data": {
      "image/png": "[encoded data removed]",
      "text/plain": [
       "<Figure size 720x432 with 1 Axes>"
      ]
     },
     "metadata": {
      "needs_background": "light"
     },
     "output_type": "display_data"
    }
   ],
   "source": [
    "# Create a bar chart\n",
    "plt.figure(figsize=(10, 6))\n",
    "project_cost_by_year.plot(kind='bar')\n",
    "plt.title('Project Cost by year')\n",
    "plt.xlabel('Year')\n",
    "plt.ylabel('Project Cost')\n",
    "plt.xticks(rotation=45)\n",
    "plt.tight_layout()\n",
    "\n",
    "# Show the plot\n",
    "plt.show()"
   ]
  },
  {
   "cell_type": "code",
   "execution_count": 22,
   "id": "e5e87f4e",
   "metadata": {},
   "outputs": [
    {
     "data": {
      "image/png": "[encoded data removed]",
      "text/plain": [
       "<Figure size 720x432 with 1 Axes>"
      ]
     },
     "metadata": {
      "needs_background": "light"
     },
     "output_type": "display_data"
    }
   ],
   "source": [
    "# Create a bar chart\n",
    "plt.figure(figsize=(10, 6))\n",
    "project_benefit_by_year.plot(kind='bar')\n",
    "plt.title('Project benefit by year')\n",
    "plt.xlabel('Year')\n",
    "plt.ylabel('Project Benefit')\n",
    "plt.xticks(rotation=45)\n",
    "plt.tight_layout()\n",
    "\n",
    "# Show the plot\n",
    "plt.show()"
   ]
  },
  {
   "cell_type": "markdown",
   "id": "a3be2332",
   "metadata": {},
   "source": [
    "# How many projects were completed each month?"
   ]
  },
  {
   "cell_type": "code",
   "execution_count": 23,
   "id": "ecfbca09",
   "metadata": {},
   "outputs": [
    {
     "data": {
      "text/plain": [
       "1     1\n",
       "2     1\n",
       "3     2\n",
       "4     5\n",
       "5     2\n",
       "6     2\n",
       "7     3\n",
       "8     2\n",
       "9     1\n",
       "10    2\n",
       "11    6\n",
       "12    3\n",
       "Name: Month, dtype: int64"
      ]
     },
     "execution_count": 23,
     "metadata": {},
     "output_type": "execute_result"
    }
   ],
   "source": [
    "completed_projects = df[df['Status'] == 'Completed']\n",
    "projects_completed_by_month = completed_projects['Month'].value_counts().sort_index()\n",
    "projects_completed_by_month"
   ]
  },
  {
   "cell_type": "markdown",
   "id": "ed8f1062",
   "metadata": {},
   "source": [
    "# How many projects are in each status category?"
   ]
  },
  {
   "cell_type": "code",
   "execution_count": 24,
   "id": "7972ddc7",
   "metadata": {},
   "outputs": [
    {
     "data": {
      "image/png": "[encoded data removed]",
      "text/plain": [
       "<Figure size 432x288 with 1 Axes>"
      ]
     },
     "metadata": {
      "needs_background": "light"
     },
     "output_type": "display_data"
    }
   ],
   "source": [
    "project_status_counts = df['Status'].value_counts().plot( kind = \"bar\")"
   ]
  },
  {
   "cell_type": "markdown",
   "id": "3d50f6fe",
   "metadata": {},
   "source": [
    "# Department By Complexity"
   ]
  },
  {
   "cell_type": "code",
   "execution_count": 25,
   "id": "1bbe4099",
   "metadata": {},
   "outputs": [
    {
     "data": {
      "image/png": "[encoded data removed]",
      "text/plain": [
       "<Figure size 576x432 with 1 Axes>"
      ]
     },
     "metadata": {
      "needs_background": "light"
     },
     "output_type": "display_data"
    }
   ],
   "source": [
    "plt.figure(figsize=(8, 6))\n",
    "sns.countplot(data=df, x='Department', hue='Complexity')\n",
    "plt.xlabel('Department')\n",
    "plt.ylabel('Complexity')\n",
    "plt.title('Department By Complexity')\n",
    "plt.show()"
   ]
  },
  {
   "cell_type": "markdown",
   "id": "67d9bd4f",
   "metadata": {},
   "source": [
    "# Region By Complexity"
   ]
  },
  {
   "cell_type": "code",
   "execution_count": 26,
   "id": "275c492d",
   "metadata": {},
   "outputs": [
    {
     "data": {
      "image/png": "[encoded data removed]",
      "text/plain": [
       "<Figure size 576x432 with 1 Axes>"
      ]
     },
     "metadata": {
      "needs_background": "light"
     },
     "output_type": "display_data"
    }
   ],
   "source": [
    "plt.figure(figsize=(8, 6))\n",
    "sns.countplot(data=df, x='Region', hue='Complexity')\n",
    "plt.xlabel('Region')\n",
    "plt.ylabel('Complexity')\n",
    "plt.title('Region By Complexity')\n",
    "plt.show()"
   ]
  },
  {
   "cell_type": "markdown",
   "id": "935c2c8d",
   "metadata": {},
   "source": [
    "# Project type wise Cost & Benefit.."
   ]
  },
  {
   "cell_type": "code",
   "execution_count": 29,
   "id": "e9ba8e44",
   "metadata": {},
   "outputs": [
    {
     "name": "stderr",
     "output_type": "stream",
     "text": [
      "C:\\Users\\Syed Arif\\AppData\\Local\\Temp\\ipykernel_11576\\683233896.py:1: FutureWarning: Indexing with multiple keys (implicitly converted to a tuple of keys) will be deprecated, use a list instead.\n",
      "  Project_cost_by_type = df.groupby('Project Type')['Project Cost', 'Project Benefit'].sum().reset_index()\n"
     ]
    },
    {
     "data": {
      "text/html": [
       "<div>\n",
       "<style scoped>\n",
       "    .dataframe tbody tr th:only-of-type {\n",
       "        vertical-align: middle;\n",
       "    }\n",
       "\n",
       "    .dataframe tbody tr th {\n",
       "        vertical-align: top;\n",
       "    }\n",
       "\n",
       "    .dataframe thead th {\n",
       "        text-align: right;\n",
       "    }\n",
       "</style>\n",
       "<table border=\"1\" class=\"dataframe\">\n",
       "  <thead>\n",
       "    <tr style=\"text-align: right;\">\n",
       "      <th></th>\n",
       "      <th>Project Type</th>\n",
       "      <th>Project Cost</th>\n",
       "      <th>Project Benefit</th>\n",
       "    </tr>\n",
       "  </thead>\n",
       "  <tbody>\n",
       "    <tr>\n",
       "      <th>0</th>\n",
       "      <td>COST REDUCTION</td>\n",
       "      <td>93387098</td>\n",
       "      <td>194574043</td>\n",
       "    </tr>\n",
       "    <tr>\n",
       "      <th>1</th>\n",
       "      <td>INCOME GENERATION</td>\n",
       "      <td>105591918</td>\n",
       "      <td>237933332</td>\n",
       "    </tr>\n",
       "    <tr>\n",
       "      <th>2</th>\n",
       "      <td>PROCESS IMPROVEMENT</td>\n",
       "      <td>102249635</td>\n",
       "      <td>222234293</td>\n",
       "    </tr>\n",
       "    <tr>\n",
       "      <th>3</th>\n",
       "      <td>WORKING CAPITAL IMPROVEMENT</td>\n",
       "      <td>110279636</td>\n",
       "      <td>219247967</td>\n",
       "    </tr>\n",
       "  </tbody>\n",
       "</table>\n",
       "</div>"
      ],
      "text/plain": [
       "                  Project Type  Project Cost  Project Benefit\n",
       "0               COST REDUCTION      93387098        194574043\n",
       "1            INCOME GENERATION     105591918        237933332\n",
       "2          PROCESS IMPROVEMENT     102249635        222234293\n",
       "3  WORKING CAPITAL IMPROVEMENT     110279636        219247967"
      ]
     },
     "execution_count": 29,
     "metadata": {},
     "output_type": "execute_result"
    }
   ],
   "source": [
    "Project_cost_by_type = df.groupby('Project Type')['Project Cost', 'Project Benefit'].sum().reset_index()\n",
    "Project_cost_by_type"
   ]
  },
  {
   "cell_type": "code",
   "execution_count": null,
   "id": "0b4f0f77",
   "metadata": {},
   "outputs": [],
   "source": []
  }
 ],
 "metadata": {
  "kernelspec": {
   "display_name": "Python 3 (ipykernel)",
   "language": "python",
   "name": "python3"
  },
  "language_info": {
   "codemirror_mode": {
    "name": "ipython",
    "version": 3
   },
   "file_extension": ".py",
   "mimetype": "text/x-python",
   "name": "python",
   "nbconvert_exporter": "python",
   "pygments_lexer": "ipython3",
   "version": "3.9.12"
  }
 },
 "nbformat": 4,
 "nbformat_minor": 5
}
